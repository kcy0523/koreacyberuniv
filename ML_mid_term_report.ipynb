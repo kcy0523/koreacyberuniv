{
  "nbformat": 4,
  "nbformat_minor": 0,
  "metadata": {
    "colab": {
      "name": "ML_mid_term_report.ipynb",
      "provenance": []
    },
    "kernelspec": {
      "name": "python3",
      "display_name": "Python 3"
    },
    "language_info": {
      "name": "python"
    },
    "accelerator": "GPU"
  },
  "cells": [
    {
      "cell_type": "markdown",
      "metadata": {
        "id": "nLWkODStxWhB"
      },
      "source": [
        "# 파이선 머신러닝 중간고사 리포트"
      ]
    },
    {
      "cell_type": "markdown",
      "metadata": {
        "id": "wX69V0ft6lW-"
      },
      "source": [
        "# FIFA 등록 축구선수 이적시장 가치 예측 알고리즘"
      ]
    },
    {
      "cell_type": "markdown",
      "metadata": {
        "id": "t4ObJz7A6vau"
      },
      "source": [
        "**데이터셋 가져오기**\n",
        "\n",
        "원본 데이터셋 url : https://dacon.io/competitions/open/235538/data\n",
        "\n",
        "상기 사이트를 통해 데이터를 Google Drive 다운로드 받은 후 파일을 공유한 후 해당 파일의 link를 생성하여 Google Colab에서 다운로드 함 "
      ]
    },
    {
      "cell_type": "code",
      "metadata": {
        "colab": {
          "base_uri": "https://localhost:8080/"
        },
        "id": "-7jzi9xb4tGP",
        "outputId": "ab0663c8-4c05-47c2-8563-e55e3a680480"
      },
      "source": [
        "# Training Dataset Download\n",
        "!gdown --id  '1j03YkOkicf8Aurq3ki2rKdpxsttDWHpm'\n",
        "# Test Dataset Download\n",
        "!gdown --id '1_oqjF3HFGQuyp48LCz0_8tPBLU9iGGEX'"
      ],
      "execution_count": null,
      "outputs": [
        {
          "output_type": "stream",
          "name": "stdout",
          "text": [
            "Downloading...\n",
            "From: https://drive.google.com/uc?id=1j03YkOkicf8Aurq3ki2rKdpxsttDWHpm\n",
            "To: /content/FIFA_train.csv\n",
            "100% 597k/597k [00:00<00:00, 38.4MB/s]\n",
            "Downloading...\n",
            "From: https://drive.google.com/uc?id=1_oqjF3HFGQuyp48LCz0_8tPBLU9iGGEX\n",
            "To: /content/FIFA_test.csv\n",
            "100% 220k/220k [00:00<00:00, 65.0MB/s]\n"
          ]
        }
      ]
    },
    {
      "cell_type": "markdown",
      "metadata": {
        "id": "bPFX7BTw68Nu"
      },
      "source": [
        "**사용할 라이브러리 정의하기**"
      ]
    },
    {
      "cell_type": "code",
      "metadata": {
        "id": "Pe21FVAp7AH_"
      },
      "source": [
        "import pandas as pd\n",
        "import numpy as np\n",
        "from scipy.stats import norm, skew\n",
        "\n",
        "import matplotlib.pyplot as plt\n",
        "import seaborn as sns\n",
        "\n",
        "from sklearn.linear_model import LinearRegression\n",
        "from sklearn.model_selection import train_test_split\n",
        "from sklearn import metrics\n",
        "\n",
        "from sklearn.model_selection import GridSearchCV\n",
        "from sklearn.metrics import classification_report\n",
        "from sklearn.preprocessing import MinMaxScaler\n",
        "from sklearn.svm import SVR\n",
        "from sklearn.neighbors import KNeighborsRegressor\n",
        "\n",
        "from sklearn.ensemble import VotingRegressor"
      ],
      "execution_count": null,
      "outputs": []
    },
    {
      "cell_type": "markdown",
      "metadata": {
        "id": "qjUbB0u-70Xf"
      },
      "source": [
        "**데이터 로드하기**"
      ]
    },
    {
      "cell_type": "code",
      "metadata": {
        "id": "lL9AVyvB785r"
      },
      "source": [
        "train = pd.read_csv('FIFA_train.csv')\n",
        "test = pd.read_csv('FIFA_test.csv')"
      ],
      "execution_count": null,
      "outputs": []
    },
    {
      "cell_type": "markdown",
      "metadata": {
        "id": "S8ZzePJG8afX"
      },
      "source": [
        "**데이터 확인하기**"
      ]
    },
    {
      "cell_type": "code",
      "metadata": {
        "colab": {
          "base_uri": "https://localhost:8080/",
          "height": 206
        },
        "id": "duQvgJL18Z6-",
        "outputId": "a23167cd-a8ec-4ae4-fd7a-4176ec5c35a6"
      },
      "source": [
        "train.head()\n",
        "# train.info"
      ],
      "execution_count": null,
      "outputs": [
        {
          "output_type": "execute_result",
          "data": {
            "text/html": [
              "<div>\n",
              "<style scoped>\n",
              "    .dataframe tbody tr th:only-of-type {\n",
              "        vertical-align: middle;\n",
              "    }\n",
              "\n",
              "    .dataframe tbody tr th {\n",
              "        vertical-align: top;\n",
              "    }\n",
              "\n",
              "    .dataframe thead th {\n",
              "        text-align: right;\n",
              "    }\n",
              "</style>\n",
              "<table border=\"1\" class=\"dataframe\">\n",
              "  <thead>\n",
              "    <tr style=\"text-align: right;\">\n",
              "      <th></th>\n",
              "      <th>id</th>\n",
              "      <th>name</th>\n",
              "      <th>age</th>\n",
              "      <th>continent</th>\n",
              "      <th>contract_until</th>\n",
              "      <th>position</th>\n",
              "      <th>prefer_foot</th>\n",
              "      <th>reputation</th>\n",
              "      <th>stat_overall</th>\n",
              "      <th>stat_potential</th>\n",
              "      <th>stat_skill_moves</th>\n",
              "      <th>value</th>\n",
              "    </tr>\n",
              "  </thead>\n",
              "  <tbody>\n",
              "    <tr>\n",
              "      <th>0</th>\n",
              "      <td>0</td>\n",
              "      <td>L. Messi</td>\n",
              "      <td>31</td>\n",
              "      <td>south america</td>\n",
              "      <td>2021</td>\n",
              "      <td>ST</td>\n",
              "      <td>left</td>\n",
              "      <td>5.0</td>\n",
              "      <td>94</td>\n",
              "      <td>94</td>\n",
              "      <td>4.0</td>\n",
              "      <td>110500000.0</td>\n",
              "    </tr>\n",
              "    <tr>\n",
              "      <th>1</th>\n",
              "      <td>3</td>\n",
              "      <td>De Gea</td>\n",
              "      <td>27</td>\n",
              "      <td>europe</td>\n",
              "      <td>2020</td>\n",
              "      <td>GK</td>\n",
              "      <td>right</td>\n",
              "      <td>4.0</td>\n",
              "      <td>91</td>\n",
              "      <td>93</td>\n",
              "      <td>1.0</td>\n",
              "      <td>72000000.0</td>\n",
              "    </tr>\n",
              "    <tr>\n",
              "      <th>2</th>\n",
              "      <td>7</td>\n",
              "      <td>L. Suárez</td>\n",
              "      <td>31</td>\n",
              "      <td>south america</td>\n",
              "      <td>2021</td>\n",
              "      <td>ST</td>\n",
              "      <td>right</td>\n",
              "      <td>5.0</td>\n",
              "      <td>91</td>\n",
              "      <td>91</td>\n",
              "      <td>3.0</td>\n",
              "      <td>80000000.0</td>\n",
              "    </tr>\n",
              "    <tr>\n",
              "      <th>3</th>\n",
              "      <td>8</td>\n",
              "      <td>Sergio Ramos</td>\n",
              "      <td>32</td>\n",
              "      <td>europe</td>\n",
              "      <td>2020</td>\n",
              "      <td>DF</td>\n",
              "      <td>right</td>\n",
              "      <td>4.0</td>\n",
              "      <td>91</td>\n",
              "      <td>91</td>\n",
              "      <td>3.0</td>\n",
              "      <td>51000000.0</td>\n",
              "    </tr>\n",
              "    <tr>\n",
              "      <th>4</th>\n",
              "      <td>9</td>\n",
              "      <td>J. Oblak</td>\n",
              "      <td>25</td>\n",
              "      <td>europe</td>\n",
              "      <td>2021</td>\n",
              "      <td>GK</td>\n",
              "      <td>right</td>\n",
              "      <td>3.0</td>\n",
              "      <td>90</td>\n",
              "      <td>93</td>\n",
              "      <td>1.0</td>\n",
              "      <td>68000000.0</td>\n",
              "    </tr>\n",
              "  </tbody>\n",
              "</table>\n",
              "</div>"
            ],
            "text/plain": [
              "   id          name  age  ... stat_potential stat_skill_moves        value\n",
              "0   0      L. Messi   31  ...             94              4.0  110500000.0\n",
              "1   3        De Gea   27  ...             93              1.0   72000000.0\n",
              "2   7     L. Suárez   31  ...             91              3.0   80000000.0\n",
              "3   8  Sergio Ramos   32  ...             91              3.0   51000000.0\n",
              "4   9      J. Oblak   25  ...             93              1.0   68000000.0\n",
              "\n",
              "[5 rows x 12 columns]"
            ]
          },
          "metadata": {},
          "execution_count": 4
        }
      ]
    },
    {
      "cell_type": "code",
      "metadata": {
        "colab": {
          "base_uri": "https://localhost:8080/",
          "height": 206
        },
        "id": "_3NJaBN5-VQ8",
        "outputId": "295d1887-6a13-4e87-fd7b-d947374554e7"
      },
      "source": [
        "test.head()\n",
        "# test.info"
      ],
      "execution_count": null,
      "outputs": [
        {
          "output_type": "execute_result",
          "data": {
            "text/html": [
              "<div>\n",
              "<style scoped>\n",
              "    .dataframe tbody tr th:only-of-type {\n",
              "        vertical-align: middle;\n",
              "    }\n",
              "\n",
              "    .dataframe tbody tr th {\n",
              "        vertical-align: top;\n",
              "    }\n",
              "\n",
              "    .dataframe thead th {\n",
              "        text-align: right;\n",
              "    }\n",
              "</style>\n",
              "<table border=\"1\" class=\"dataframe\">\n",
              "  <thead>\n",
              "    <tr style=\"text-align: right;\">\n",
              "      <th></th>\n",
              "      <th>id</th>\n",
              "      <th>name</th>\n",
              "      <th>age</th>\n",
              "      <th>continent</th>\n",
              "      <th>contract_until</th>\n",
              "      <th>position</th>\n",
              "      <th>prefer_foot</th>\n",
              "      <th>reputation</th>\n",
              "      <th>stat_overall</th>\n",
              "      <th>stat_potential</th>\n",
              "      <th>stat_skill_moves</th>\n",
              "    </tr>\n",
              "  </thead>\n",
              "  <tbody>\n",
              "    <tr>\n",
              "      <th>0</th>\n",
              "      <td>1</td>\n",
              "      <td>Cristiano Ronaldo</td>\n",
              "      <td>33</td>\n",
              "      <td>europe</td>\n",
              "      <td>2022</td>\n",
              "      <td>ST</td>\n",
              "      <td>right</td>\n",
              "      <td>5.0</td>\n",
              "      <td>94</td>\n",
              "      <td>94</td>\n",
              "      <td>5.0</td>\n",
              "    </tr>\n",
              "    <tr>\n",
              "      <th>1</th>\n",
              "      <td>2</td>\n",
              "      <td>Neymar Jr</td>\n",
              "      <td>26</td>\n",
              "      <td>south america</td>\n",
              "      <td>2022</td>\n",
              "      <td>ST</td>\n",
              "      <td>right</td>\n",
              "      <td>5.0</td>\n",
              "      <td>92</td>\n",
              "      <td>93</td>\n",
              "      <td>5.0</td>\n",
              "    </tr>\n",
              "    <tr>\n",
              "      <th>2</th>\n",
              "      <td>4</td>\n",
              "      <td>K. De Bruyne</td>\n",
              "      <td>27</td>\n",
              "      <td>europe</td>\n",
              "      <td>2023</td>\n",
              "      <td>MF</td>\n",
              "      <td>right</td>\n",
              "      <td>4.0</td>\n",
              "      <td>91</td>\n",
              "      <td>92</td>\n",
              "      <td>4.0</td>\n",
              "    </tr>\n",
              "    <tr>\n",
              "      <th>3</th>\n",
              "      <td>5</td>\n",
              "      <td>E. Hazard</td>\n",
              "      <td>27</td>\n",
              "      <td>europe</td>\n",
              "      <td>2020</td>\n",
              "      <td>ST</td>\n",
              "      <td>right</td>\n",
              "      <td>4.0</td>\n",
              "      <td>91</td>\n",
              "      <td>91</td>\n",
              "      <td>4.0</td>\n",
              "    </tr>\n",
              "    <tr>\n",
              "      <th>4</th>\n",
              "      <td>6</td>\n",
              "      <td>L. Modrić</td>\n",
              "      <td>32</td>\n",
              "      <td>europe</td>\n",
              "      <td>2020</td>\n",
              "      <td>MF</td>\n",
              "      <td>right</td>\n",
              "      <td>4.0</td>\n",
              "      <td>91</td>\n",
              "      <td>91</td>\n",
              "      <td>4.0</td>\n",
              "    </tr>\n",
              "  </tbody>\n",
              "</table>\n",
              "</div>"
            ],
            "text/plain": [
              "   id               name  age  ... stat_overall stat_potential stat_skill_moves\n",
              "0   1  Cristiano Ronaldo   33  ...           94             94              5.0\n",
              "1   2          Neymar Jr   26  ...           92             93              5.0\n",
              "2   4       K. De Bruyne   27  ...           91             92              4.0\n",
              "3   5          E. Hazard   27  ...           91             91              4.0\n",
              "4   6          L. Modrić   32  ...           91             91              4.0\n",
              "\n",
              "[5 rows x 11 columns]"
            ]
          },
          "metadata": {},
          "execution_count": 5
        }
      ]
    },
    {
      "cell_type": "markdown",
      "metadata": {
        "id": "pf3bef80W0Q-"
      },
      "source": [
        "**데이터 전처리**"
      ]
    },
    {
      "cell_type": "markdown",
      "metadata": {
        "id": "t8FmoqhIW7U_"
      },
      "source": [
        "데이터 분석에 영향을 미치지 않는 id, name, contract_until을 제거함"
      ]
    },
    {
      "cell_type": "code",
      "metadata": {
        "id": "cKtCECd0XJDu"
      },
      "source": [
        "train_data = train.drop(['id', 'name', 'contract_until'], axis=1)\n",
        "test_data = test.drop(['id', 'name', 'contract_until'], axis=1)"
      ],
      "execution_count": null,
      "outputs": []
    },
    {
      "cell_type": "code",
      "metadata": {
        "colab": {
          "base_uri": "https://localhost:8080/",
          "height": 206
        },
        "id": "3BmxRWd0X7ag",
        "outputId": "6ec1e97f-3b4d-4d71-c547-64d393b4f697"
      },
      "source": [
        "train_data.head()"
      ],
      "execution_count": null,
      "outputs": [
        {
          "output_type": "execute_result",
          "data": {
            "text/html": [
              "<div>\n",
              "<style scoped>\n",
              "    .dataframe tbody tr th:only-of-type {\n",
              "        vertical-align: middle;\n",
              "    }\n",
              "\n",
              "    .dataframe tbody tr th {\n",
              "        vertical-align: top;\n",
              "    }\n",
              "\n",
              "    .dataframe thead th {\n",
              "        text-align: right;\n",
              "    }\n",
              "</style>\n",
              "<table border=\"1\" class=\"dataframe\">\n",
              "  <thead>\n",
              "    <tr style=\"text-align: right;\">\n",
              "      <th></th>\n",
              "      <th>age</th>\n",
              "      <th>continent</th>\n",
              "      <th>position</th>\n",
              "      <th>prefer_foot</th>\n",
              "      <th>reputation</th>\n",
              "      <th>stat_overall</th>\n",
              "      <th>stat_potential</th>\n",
              "      <th>stat_skill_moves</th>\n",
              "      <th>value</th>\n",
              "    </tr>\n",
              "  </thead>\n",
              "  <tbody>\n",
              "    <tr>\n",
              "      <th>0</th>\n",
              "      <td>31</td>\n",
              "      <td>south america</td>\n",
              "      <td>ST</td>\n",
              "      <td>left</td>\n",
              "      <td>5.0</td>\n",
              "      <td>94</td>\n",
              "      <td>94</td>\n",
              "      <td>4.0</td>\n",
              "      <td>110500000.0</td>\n",
              "    </tr>\n",
              "    <tr>\n",
              "      <th>1</th>\n",
              "      <td>27</td>\n",
              "      <td>europe</td>\n",
              "      <td>GK</td>\n",
              "      <td>right</td>\n",
              "      <td>4.0</td>\n",
              "      <td>91</td>\n",
              "      <td>93</td>\n",
              "      <td>1.0</td>\n",
              "      <td>72000000.0</td>\n",
              "    </tr>\n",
              "    <tr>\n",
              "      <th>2</th>\n",
              "      <td>31</td>\n",
              "      <td>south america</td>\n",
              "      <td>ST</td>\n",
              "      <td>right</td>\n",
              "      <td>5.0</td>\n",
              "      <td>91</td>\n",
              "      <td>91</td>\n",
              "      <td>3.0</td>\n",
              "      <td>80000000.0</td>\n",
              "    </tr>\n",
              "    <tr>\n",
              "      <th>3</th>\n",
              "      <td>32</td>\n",
              "      <td>europe</td>\n",
              "      <td>DF</td>\n",
              "      <td>right</td>\n",
              "      <td>4.0</td>\n",
              "      <td>91</td>\n",
              "      <td>91</td>\n",
              "      <td>3.0</td>\n",
              "      <td>51000000.0</td>\n",
              "    </tr>\n",
              "    <tr>\n",
              "      <th>4</th>\n",
              "      <td>25</td>\n",
              "      <td>europe</td>\n",
              "      <td>GK</td>\n",
              "      <td>right</td>\n",
              "      <td>3.0</td>\n",
              "      <td>90</td>\n",
              "      <td>93</td>\n",
              "      <td>1.0</td>\n",
              "      <td>68000000.0</td>\n",
              "    </tr>\n",
              "  </tbody>\n",
              "</table>\n",
              "</div>"
            ],
            "text/plain": [
              "   age      continent position  ... stat_potential  stat_skill_moves        value\n",
              "0   31  south america       ST  ...             94               4.0  110500000.0\n",
              "1   27         europe       GK  ...             93               1.0   72000000.0\n",
              "2   31  south america       ST  ...             91               3.0   80000000.0\n",
              "3   32         europe       DF  ...             91               3.0   51000000.0\n",
              "4   25         europe       GK  ...             93               1.0   68000000.0\n",
              "\n",
              "[5 rows x 9 columns]"
            ]
          },
          "metadata": {},
          "execution_count": 7
        }
      ]
    },
    {
      "cell_type": "markdown",
      "metadata": {
        "id": "PfC4KPgMZc5z"
      },
      "source": [
        "**종속변수의 분포를 그려 왜도를 살펴봄**\n",
        "\n",
        "로그변환(np.log1p)을 하는 이유\n",
        "1. 데이터의 분포를 보았을 때 밀집되어 있는 부분은 퍼지게 퍼져있는 부분은 모아지게 만듬. 한쪽으로 치우친 분포를 정규분포 모양으로 고르게 분포\n",
        "2. 다른변수는 100미만이지만 value값은 10만이 넘는 큰 수임. 다른 변수들과 스케일 차이가 크므로 스케일을 줄일 목적으로 변환함\n",
        "3. 로그함수의 경우 위의 자연로그 함수 그래프를 보면 알겠지만,  인 경우 가 -무한대(-infinite)의 값이 나오므로 log()함수 대신 log1p() 함수를 사용하여 이를 방지함"
      ]
    },
    {
      "cell_type": "code",
      "metadata": {
        "colab": {
          "base_uri": "https://localhost:8080/",
          "height": 348
        },
        "id": "LPl18F2-Zone",
        "outputId": "3ad96250-eb49-4066-b2e7-4b87a3357aa0"
      },
      "source": [
        "sns.distplot(train_data.value, fit = norm)\n",
        "(mu, sigma) = norm.fit(train_data['value'])\n",
        "plt.legend(['Normal dist\\n$\\mu=$ {:.2f} and $\\sigma=$ {:.2f}'.format(mu, sigma)], loc = 'best')\n",
        "plt.show()"
      ],
      "execution_count": null,
      "outputs": [
        {
          "output_type": "stream",
          "name": "stderr",
          "text": [
            "/usr/local/lib/python3.7/dist-packages/seaborn/distributions.py:2619: FutureWarning: `distplot` is a deprecated function and will be removed in a future version. Please adapt your code to use either `displot` (a figure-level function with similar flexibility) or `histplot` (an axes-level function for histograms).\n",
            "  warnings.warn(msg, FutureWarning)\n"
          ]
        },
        {
          "output_type": "display_data",
          "data": {
            "image/png": "[encoded data removed]",
            "text/plain": [
              "<Figure size 432x288 with 1 Axes>"
            ]
          },
          "metadata": {
            "needs_background": "light"
          }
        }
      ]
    },
    {
      "cell_type": "code",
      "metadata": {
        "colab": {
          "base_uri": "https://localhost:8080/",
          "height": 337
        },
        "id": "HTk0BySCa4uG",
        "outputId": "4d800171-8fa3-4342-cf2d-4143f712ad54"
      },
      "source": [
        "sns.distplot(np.log1p(train_data.value), fit = norm, color = 'r')\n",
        "(mu, sigma) = norm.fit(np.log1p(train_data['value']))\n",
        "plt.legend(['Normal dist\\n$\\mu=$ {:.2f} and $\\sigma=$ {:.2f}'.format(mu, sigma)],loc = 'best')\n",
        "plt.show()"
      ],
      "execution_count": null,
      "outputs": [
        {
          "output_type": "stream",
          "name": "stderr",
          "text": [
            "/usr/local/lib/python3.7/dist-packages/seaborn/distributions.py:2619: FutureWarning: `distplot` is a deprecated function and will be removed in a future version. Please adapt your code to use either `displot` (a figure-level function with similar flexibility) or `histplot` (an axes-level function for histograms).\n",
            "  warnings.warn(msg, FutureWarning)\n"
          ]
        },
        {
          "output_type": "display_data",
          "data": {
            "image/png": "[encoded data removed]",
            "text/plain": [
              "<Figure size 432x288 with 1 Axes>"
            ]
          },
          "metadata": {
            "needs_background": "light"
          }
        }
      ]
    },
    {
      "cell_type": "code",
      "metadata": {
        "id": "MsWwqve_caWP"
      },
      "source": [
        "train_data.value = np.log1p(train_data.value)"
      ],
      "execution_count": null,
      "outputs": []
    },
    {
      "cell_type": "code",
      "metadata": {
        "colab": {
          "base_uri": "https://localhost:8080/",
          "height": 206
        },
        "id": "M6gfNdcod8MD",
        "outputId": "6359bf8a-d11e-4a19-ac4e-6d1a66705d94"
      },
      "source": [
        "train_data.head()"
      ],
      "execution_count": null,
      "outputs": [
        {
          "output_type": "execute_result",
          "data": {
            "text/html": [
              "<div>\n",
              "<style scoped>\n",
              "    .dataframe tbody tr th:only-of-type {\n",
              "        vertical-align: middle;\n",
              "    }\n",
              "\n",
              "    .dataframe tbody tr th {\n",
              "        vertical-align: top;\n",
              "    }\n",
              "\n",
              "    .dataframe thead th {\n",
              "        text-align: right;\n",
              "    }\n",
              "</style>\n",
              "<table border=\"1\" class=\"dataframe\">\n",
              "  <thead>\n",
              "    <tr style=\"text-align: right;\">\n",
              "      <th></th>\n",
              "      <th>age</th>\n",
              "      <th>continent</th>\n",
              "      <th>position</th>\n",
              "      <th>prefer_foot</th>\n",
              "      <th>reputation</th>\n",
              "      <th>stat_overall</th>\n",
              "      <th>stat_potential</th>\n",
              "      <th>stat_skill_moves</th>\n",
              "      <th>value</th>\n",
              "    </tr>\n",
              "  </thead>\n",
              "  <tbody>\n",
              "    <tr>\n",
              "      <th>0</th>\n",
              "      <td>31</td>\n",
              "      <td>south america</td>\n",
              "      <td>ST</td>\n",
              "      <td>left</td>\n",
              "      <td>5.0</td>\n",
              "      <td>94</td>\n",
              "      <td>94</td>\n",
              "      <td>4.0</td>\n",
              "      <td>18.520526</td>\n",
              "    </tr>\n",
              "    <tr>\n",
              "      <th>1</th>\n",
              "      <td>27</td>\n",
              "      <td>europe</td>\n",
              "      <td>GK</td>\n",
              "      <td>right</td>\n",
              "      <td>4.0</td>\n",
              "      <td>91</td>\n",
              "      <td>93</td>\n",
              "      <td>1.0</td>\n",
              "      <td>18.092177</td>\n",
              "    </tr>\n",
              "    <tr>\n",
              "      <th>2</th>\n",
              "      <td>31</td>\n",
              "      <td>south america</td>\n",
              "      <td>ST</td>\n",
              "      <td>right</td>\n",
              "      <td>5.0</td>\n",
              "      <td>91</td>\n",
              "      <td>91</td>\n",
              "      <td>3.0</td>\n",
              "      <td>18.197537</td>\n",
              "    </tr>\n",
              "    <tr>\n",
              "      <th>3</th>\n",
              "      <td>32</td>\n",
              "      <td>europe</td>\n",
              "      <td>DF</td>\n",
              "      <td>right</td>\n",
              "      <td>4.0</td>\n",
              "      <td>91</td>\n",
              "      <td>91</td>\n",
              "      <td>3.0</td>\n",
              "      <td>17.747336</td>\n",
              "    </tr>\n",
              "    <tr>\n",
              "      <th>4</th>\n",
              "      <td>25</td>\n",
              "      <td>europe</td>\n",
              "      <td>GK</td>\n",
              "      <td>right</td>\n",
              "      <td>3.0</td>\n",
              "      <td>90</td>\n",
              "      <td>93</td>\n",
              "      <td>1.0</td>\n",
              "      <td>18.035018</td>\n",
              "    </tr>\n",
              "  </tbody>\n",
              "</table>\n",
              "</div>"
            ],
            "text/plain": [
              "   age      continent position  ... stat_potential  stat_skill_moves      value\n",
              "0   31  south america       ST  ...             94               4.0  18.520526\n",
              "1   27         europe       GK  ...             93               1.0  18.092177\n",
              "2   31  south america       ST  ...             91               3.0  18.197537\n",
              "3   32         europe       DF  ...             91               3.0  17.747336\n",
              "4   25         europe       GK  ...             93               1.0  18.035018\n",
              "\n",
              "[5 rows x 9 columns]"
            ]
          },
          "metadata": {},
          "execution_count": 11
        }
      ]
    },
    {
      "cell_type": "markdown",
      "metadata": {
        "id": "y1RkezKff211"
      },
      "source": [
        "**텍스트 데이터의 One-hot encoding 처리**"
      ]
    },
    {
      "cell_type": "markdown",
      "metadata": {
        "id": "SsalKUuXgCui"
      },
      "source": [
        "pandas의 get_dummies() 함수를 사용하기"
      ]
    },
    {
      "cell_type": "code",
      "metadata": {
        "id": "7NWOzlYggBl-"
      },
      "source": [
        "train_data = pd.get_dummies(columns=['continent', 'position', 'prefer_foot'], data=train_data)\n",
        "test_data = pd.get_dummies(columns=['continent', 'position', 'prefer_foot'], data=test_data)"
      ],
      "execution_count": null,
      "outputs": []
    },
    {
      "cell_type": "code",
      "metadata": {
        "colab": {
          "base_uri": "https://localhost:8080/",
          "height": 243
        },
        "id": "kn4w99IdgiDC",
        "outputId": "14a50089-5d6c-4b7b-8b03-bd9f8e5fa2ba"
      },
      "source": [
        "train_data.head()"
      ],
      "execution_count": null,
      "outputs": [
        {
          "output_type": "execute_result",
          "data": {
            "text/html": [
              "<div>\n",
              "<style scoped>\n",
              "    .dataframe tbody tr th:only-of-type {\n",
              "        vertical-align: middle;\n",
              "    }\n",
              "\n",
              "    .dataframe tbody tr th {\n",
              "        vertical-align: top;\n",
              "    }\n",
              "\n",
              "    .dataframe thead th {\n",
              "        text-align: right;\n",
              "    }\n",
              "</style>\n",
              "<table border=\"1\" class=\"dataframe\">\n",
              "  <thead>\n",
              "    <tr style=\"text-align: right;\">\n",
              "      <th></th>\n",
              "      <th>age</th>\n",
              "      <th>reputation</th>\n",
              "      <th>stat_overall</th>\n",
              "      <th>stat_potential</th>\n",
              "      <th>stat_skill_moves</th>\n",
              "      <th>value</th>\n",
              "      <th>continent_africa</th>\n",
              "      <th>continent_asia</th>\n",
              "      <th>continent_europe</th>\n",
              "      <th>continent_oceania</th>\n",
              "      <th>continent_south america</th>\n",
              "      <th>position_DF</th>\n",
              "      <th>position_GK</th>\n",
              "      <th>position_MF</th>\n",
              "      <th>position_ST</th>\n",
              "      <th>prefer_foot_left</th>\n",
              "      <th>prefer_foot_right</th>\n",
              "    </tr>\n",
              "  </thead>\n",
              "  <tbody>\n",
              "    <tr>\n",
              "      <th>0</th>\n",
              "      <td>31</td>\n",
              "      <td>5.0</td>\n",
              "      <td>94</td>\n",
              "      <td>94</td>\n",
              "      <td>4.0</td>\n",
              "      <td>18.520526</td>\n",
              "      <td>0</td>\n",
              "      <td>0</td>\n",
              "      <td>0</td>\n",
              "      <td>0</td>\n",
              "      <td>1</td>\n",
              "      <td>0</td>\n",
              "      <td>0</td>\n",
              "      <td>0</td>\n",
              "      <td>1</td>\n",
              "      <td>1</td>\n",
              "      <td>0</td>\n",
              "    </tr>\n",
              "    <tr>\n",
              "      <th>1</th>\n",
              "      <td>27</td>\n",
              "      <td>4.0</td>\n",
              "      <td>91</td>\n",
              "      <td>93</td>\n",
              "      <td>1.0</td>\n",
              "      <td>18.092177</td>\n",
              "      <td>0</td>\n",
              "      <td>0</td>\n",
              "      <td>1</td>\n",
              "      <td>0</td>\n",
              "      <td>0</td>\n",
              "      <td>0</td>\n",
              "      <td>1</td>\n",
              "      <td>0</td>\n",
              "      <td>0</td>\n",
              "      <td>0</td>\n",
              "      <td>1</td>\n",
              "    </tr>\n",
              "    <tr>\n",
              "      <th>2</th>\n",
              "      <td>31</td>\n",
              "      <td>5.0</td>\n",
              "      <td>91</td>\n",
              "      <td>91</td>\n",
              "      <td>3.0</td>\n",
              "      <td>18.197537</td>\n",
              "      <td>0</td>\n",
              "      <td>0</td>\n",
              "      <td>0</td>\n",
              "      <td>0</td>\n",
              "      <td>1</td>\n",
              "      <td>0</td>\n",
              "      <td>0</td>\n",
              "      <td>0</td>\n",
              "      <td>1</td>\n",
              "      <td>0</td>\n",
              "      <td>1</td>\n",
              "    </tr>\n",
              "    <tr>\n",
              "      <th>3</th>\n",
              "      <td>32</td>\n",
              "      <td>4.0</td>\n",
              "      <td>91</td>\n",
              "      <td>91</td>\n",
              "      <td>3.0</td>\n",
              "      <td>17.747336</td>\n",
              "      <td>0</td>\n",
              "      <td>0</td>\n",
              "      <td>1</td>\n",
              "      <td>0</td>\n",
              "      <td>0</td>\n",
              "      <td>1</td>\n",
              "      <td>0</td>\n",
              "      <td>0</td>\n",
              "      <td>0</td>\n",
              "      <td>0</td>\n",
              "      <td>1</td>\n",
              "    </tr>\n",
              "    <tr>\n",
              "      <th>4</th>\n",
              "      <td>25</td>\n",
              "      <td>3.0</td>\n",
              "      <td>90</td>\n",
              "      <td>93</td>\n",
              "      <td>1.0</td>\n",
              "      <td>18.035018</td>\n",
              "      <td>0</td>\n",
              "      <td>0</td>\n",
              "      <td>1</td>\n",
              "      <td>0</td>\n",
              "      <td>0</td>\n",
              "      <td>0</td>\n",
              "      <td>1</td>\n",
              "      <td>0</td>\n",
              "      <td>0</td>\n",
              "      <td>0</td>\n",
              "      <td>1</td>\n",
              "    </tr>\n",
              "  </tbody>\n",
              "</table>\n",
              "</div>"
            ],
            "text/plain": [
              "   age  reputation  ...  prefer_foot_left  prefer_foot_right\n",
              "0   31         5.0  ...                 1                  0\n",
              "1   27         4.0  ...                 0                  1\n",
              "2   31         5.0  ...                 0                  1\n",
              "3   32         4.0  ...                 0                  1\n",
              "4   25         3.0  ...                 0                  1\n",
              "\n",
              "[5 rows x 17 columns]"
            ]
          },
          "metadata": {},
          "execution_count": 13
        }
      ]
    },
    {
      "cell_type": "markdown",
      "metadata": {
        "id": "5N5DR_5piX07"
      },
      "source": [
        "**모델 생성 및 학습 (Linear Regression)**"
      ]
    },
    {
      "cell_type": "markdown",
      "metadata": {
        "id": "eiiV_XCbgiNe"
      },
      "source": [
        "Train, Validation Data 생성하기"
      ]
    },
    {
      "cell_type": "code",
      "metadata": {
        "id": "GJLx4Yawgl34"
      },
      "source": [
        "X = train_data.drop('value', axis=1)\n",
        "y = train_data.value\n",
        "x_train, x_valid, y_train, y_valid = train_test_split(X, y, test_size=0.2)"
      ],
      "execution_count": null,
      "outputs": []
    },
    {
      "cell_type": "markdown",
      "metadata": {
        "id": "cg6I6bQbhbqO"
      },
      "source": [
        "학습하기"
      ]
    },
    {
      "cell_type": "code",
      "metadata": {
        "colab": {
          "base_uri": "https://localhost:8080/"
        },
        "id": "gTX8qc_Vib_g",
        "outputId": "065de3a4-5b59-4c7b-a691-47b7e06656bb"
      },
      "source": [
        "lr = LinearRegression()\n",
        "lr.fit(x_train, y_train)"
      ],
      "execution_count": null,
      "outputs": [
        {
          "output_type": "execute_result",
          "data": {
            "text/plain": [
              "LinearRegression()"
            ]
          },
          "metadata": {},
          "execution_count": 15
        }
      ]
    },
    {
      "cell_type": "code",
      "metadata": {
        "colab": {
          "base_uri": "https://localhost:8080/"
        },
        "id": "-7NJNSZrk83w",
        "outputId": "4f25721b-ae8b-4092-ee3e-d4a562325416"
      },
      "source": [
        "print(lr.coef_)\n",
        "print(lr.intercept_)"
      ],
      "execution_count": null,
      "outputs": [
        {
          "output_type": "stream",
          "name": "stdout",
          "text": [
            "[-9.99215386e-02  4.84851865e-03  2.24147885e-01 -5.75954351e-03\n",
            "  3.97384533e-02  4.43537503e-03  2.48027310e-02 -7.16996812e-03\n",
            " -2.19174951e-02 -1.50642737e-04 -5.95705408e-02 -1.26616941e-01\n",
            "  6.73546384e-02  1.18832843e-01 -5.22616423e-03  5.22616423e-03]\n",
            "1.5703526328437825\n"
          ]
        }
      ]
    },
    {
      "cell_type": "markdown",
      "metadata": {
        "id": "Un2oVF91rN-Z"
      },
      "source": [
        "검증하기\n",
        "\n",
        "Training Data와 Validation Data에 대해서\n",
        "RMSE(Root Mean Squared Error)와 R2 계수를 구해서 체크해 보기"
      ]
    },
    {
      "cell_type": "code",
      "metadata": {
        "id": "5IAv1tV0v36o"
      },
      "source": [
        "accuracy_check_lr = {}"
      ],
      "execution_count": null,
      "outputs": []
    },
    {
      "cell_type": "code",
      "metadata": {
        "colab": {
          "base_uri": "https://localhost:8080/"
        },
        "id": "OKM9bhh8oVkv",
        "outputId": "a0c122a9-6e1f-479f-fe04-faee192a66ff"
      },
      "source": [
        "y_pred = lr.predict(x_train) \n",
        "train_r2_score = metrics.r2_score(y_train, y_pred)\n",
        "train_rmse_score = np.sqrt(metrics.mean_squared_error(y_train, y_pred))\n",
        "print(train_r2_score, train_rmse_score)\n",
        "accuracy_check_lr['train_r2_score'] = train_r2_score\n",
        "accuracy_check_lr['train_rmse_score'] = train_rmse_score"
      ],
      "execution_count": null,
      "outputs": [
        {
          "output_type": "stream",
          "name": "stdout",
          "text": [
            "0.9690128150700598 0.24554980911738725\n"
          ]
        }
      ]
    },
    {
      "cell_type": "code",
      "metadata": {
        "colab": {
          "base_uri": "https://localhost:8080/"
        },
        "id": "RdD2fkmPlKMg",
        "outputId": "ca8b58d5-4329-4ad6-d1c2-1d1f90bbba5a"
      },
      "source": [
        "y_pred = lr.predict(x_valid) \n",
        "valid_r2_score = metrics.r2_score(y_valid, y_pred)\n",
        "valid_rmse_score =  np.sqrt(metrics.mean_squared_error(y_valid, y_pred))\n",
        "print(valid_r2_score, valid_rmse_score)\n",
        "accuracy_check_lr['valid_r2_score'] = valid_r2_score\n",
        "accuracy_check_lr['valid_rmse_score'] = valid_rmse_score"
      ],
      "execution_count": null,
      "outputs": [
        {
          "output_type": "stream",
          "name": "stdout",
          "text": [
            "0.9702440208527559 0.24630588072549242\n"
          ]
        }
      ]
    },
    {
      "cell_type": "code",
      "metadata": {
        "colab": {
          "base_uri": "https://localhost:8080/",
          "height": 81
        },
        "id": "DkY_rOaQyURu",
        "outputId": "409131c1-5e65-4a03-843d-bbc8a64fbd43"
      },
      "source": [
        "accuracy_lr = pd.DataFrame(accuracy_check_lr, index=['LR'])\n",
        "accuracy_lr"
      ],
      "execution_count": null,
      "outputs": [
        {
          "output_type": "execute_result",
          "data": {
            "text/html": [
              "<div>\n",
              "<style scoped>\n",
              "    .dataframe tbody tr th:only-of-type {\n",
              "        vertical-align: middle;\n",
              "    }\n",
              "\n",
              "    .dataframe tbody tr th {\n",
              "        vertical-align: top;\n",
              "    }\n",
              "\n",
              "    .dataframe thead th {\n",
              "        text-align: right;\n",
              "    }\n",
              "</style>\n",
              "<table border=\"1\" class=\"dataframe\">\n",
              "  <thead>\n",
              "    <tr style=\"text-align: right;\">\n",
              "      <th></th>\n",
              "      <th>train_r2_score</th>\n",
              "      <th>train_rmse_score</th>\n",
              "      <th>valid_r2_score</th>\n",
              "      <th>valid_rmse_score</th>\n",
              "    </tr>\n",
              "  </thead>\n",
              "  <tbody>\n",
              "    <tr>\n",
              "      <th>LR</th>\n",
              "      <td>0.969013</td>\n",
              "      <td>0.24555</td>\n",
              "      <td>0.970244</td>\n",
              "      <td>0.246306</td>\n",
              "    </tr>\n",
              "  </tbody>\n",
              "</table>\n",
              "</div>"
            ],
            "text/plain": [
              "    train_r2_score  train_rmse_score  valid_r2_score  valid_rmse_score\n",
              "LR        0.969013           0.24555        0.970244          0.246306"
            ]
          },
          "metadata": {},
          "execution_count": 20
        }
      ]
    },
    {
      "cell_type": "markdown",
      "metadata": {
        "id": "cTv_zeg33A4c"
      },
      "source": [
        "**모델 생성 및 학습 (SVM - Supported Vector Machine)**"
      ]
    },
    {
      "cell_type": "markdown",
      "metadata": {
        "id": "AYMvRMLZ5Tab"
      },
      "source": [
        "Data 전처리\n",
        "\n",
        "각 feature가 갖는 값들의 숫자 범위를 일정한 범위로 맞추기 위해 MinMaxScaler 라이브러리를 이용해 값을 0과 1사이 값으로 변환함"
      ]
    },
    {
      "cell_type": "code",
      "metadata": {
        "id": "fihfkSJ65WIT"
      },
      "source": [
        "X = train_data.drop('value', axis=1)\n",
        "y = train_data.value\n",
        "#scaler = MinMaxScaler()\n",
        "#scaler.fit(X)\n",
        "#X = scaler.transform(X)\n",
        "x_train, x_valid, y_train, y_valid = train_test_split(X, y, test_size=0.2)"
      ],
      "execution_count": null,
      "outputs": []
    },
    {
      "cell_type": "markdown",
      "metadata": {
        "id": "BAAfGzkeHTOe"
      },
      "source": [
        "GridSearchCV를 이용하여 SVM hyperparameter인 C, gamma 값을 최적화함"
      ]
    },
    {
      "cell_type": "code",
      "metadata": {
        "colab": {
          "base_uri": "https://localhost:8080/"
        },
        "id": "HnM_UEVk3HeC",
        "outputId": "9a4275e6-ecf1-4cd4-e02a-ea38268de2f7"
      },
      "source": [
        "def svr_param_selection(X, y, nfolds) :\n",
        "    svm_parameters = [{'kernel':['rbf'],\n",
        "                       'gamma':[0.00001, 0.0001, 0.001, 0.01, 0.1, 1],\n",
        "                       'C':[0.01, 0.1, 1, 10, 100, 1000]}]\n",
        "    clf = GridSearchCV(SVR(), svm_parameters, cv=nfolds)\n",
        "    clf.fit(X, y)\n",
        "    print(clf.best_params_)\n",
        "    return clf\n",
        "\n",
        "clf = svr_param_selection(x_train, y_train.values.ravel(), 10)"
      ],
      "execution_count": null,
      "outputs": [
        {
          "output_type": "stream",
          "name": "stdout",
          "text": [
            "{'C': 10, 'gamma': 0.01, 'kernel': 'rbf'}\n"
          ]
        }
      ]
    },
    {
      "cell_type": "markdown",
      "metadata": {
        "id": "Uzx1l9QQF58T"
      },
      "source": [
        "검증하기\n",
        "\n",
        "Training Data와 Validation Data에 대해서\n",
        "RMSE(Root Mean Squared Error)와 R2 계수를 구해서 체크해 보기"
      ]
    },
    {
      "cell_type": "code",
      "metadata": {
        "id": "bvF0ZfbiF4An"
      },
      "source": [
        "accuracy_check_svm = {}"
      ],
      "execution_count": null,
      "outputs": []
    },
    {
      "cell_type": "code",
      "metadata": {
        "colab": {
          "base_uri": "https://localhost:8080/"
        },
        "id": "1B9zUXq4GGc4",
        "outputId": "a4c9529a-7aaa-4b5f-f7f5-d22b7a0e19cf"
      },
      "source": [
        "y_pred = clf.predict(x_train) \n",
        "train_r2_score = metrics.r2_score(y_train, y_pred)\n",
        "train_rmse_score = np.sqrt(metrics.mean_squared_error(y_train, y_pred))\n",
        "print(train_r2_score, train_rmse_score)\n",
        "accuracy_check_svm['train_r2_score'] = train_r2_score\n",
        "accuracy_check_svm['train_rmse_score'] = train_rmse_score"
      ],
      "execution_count": null,
      "outputs": [
        {
          "output_type": "stream",
          "name": "stdout",
          "text": [
            "0.9963582953289103 0.08400979139233476\n"
          ]
        }
      ]
    },
    {
      "cell_type": "code",
      "metadata": {
        "colab": {
          "base_uri": "https://localhost:8080/"
        },
        "id": "ujKeT3izGVkH",
        "outputId": "a8bf7d99-33c0-4066-b70a-bb3794eb49bb"
      },
      "source": [
        "y_pred = clf.predict(x_valid) \n",
        "valid_r2_score = metrics.r2_score(y_valid, y_pred)\n",
        "valid_rmse_score =  np.sqrt(metrics.mean_squared_error(y_valid, y_pred))\n",
        "print(valid_r2_score, valid_rmse_score)\n",
        "accuracy_check_svm['valid_r2_score'] = valid_r2_score\n",
        "accuracy_check_svm['valid_rmse_score'] = valid_rmse_score"
      ],
      "execution_count": null,
      "outputs": [
        {
          "output_type": "stream",
          "name": "stdout",
          "text": [
            "0.9955204243830591 0.09631214167300232\n"
          ]
        }
      ]
    },
    {
      "cell_type": "code",
      "metadata": {
        "colab": {
          "base_uri": "https://localhost:8080/",
          "height": 81
        },
        "id": "GjBp3Op7G_pm",
        "outputId": "7dd8137d-5d0c-45b3-b242-3405a9e18786"
      },
      "source": [
        "accuracy_svm = pd.DataFrame(accuracy_check_svm, index=['SVM'])\n",
        "accuracy_svm"
      ],
      "execution_count": null,
      "outputs": [
        {
          "output_type": "execute_result",
          "data": {
            "text/html": [
              "<div>\n",
              "<style scoped>\n",
              "    .dataframe tbody tr th:only-of-type {\n",
              "        vertical-align: middle;\n",
              "    }\n",
              "\n",
              "    .dataframe tbody tr th {\n",
              "        vertical-align: top;\n",
              "    }\n",
              "\n",
              "    .dataframe thead th {\n",
              "        text-align: right;\n",
              "    }\n",
              "</style>\n",
              "<table border=\"1\" class=\"dataframe\">\n",
              "  <thead>\n",
              "    <tr style=\"text-align: right;\">\n",
              "      <th></th>\n",
              "      <th>train_r2_score</th>\n",
              "      <th>train_rmse_score</th>\n",
              "      <th>valid_r2_score</th>\n",
              "      <th>valid_rmse_score</th>\n",
              "    </tr>\n",
              "  </thead>\n",
              "  <tbody>\n",
              "    <tr>\n",
              "      <th>SVM</th>\n",
              "      <td>0.996358</td>\n",
              "      <td>0.08401</td>\n",
              "      <td>0.99552</td>\n",
              "      <td>0.096312</td>\n",
              "    </tr>\n",
              "  </tbody>\n",
              "</table>\n",
              "</div>"
            ],
            "text/plain": [
              "     train_r2_score  train_rmse_score  valid_r2_score  valid_rmse_score\n",
              "SVM        0.996358           0.08401         0.99552          0.096312"
            ]
          },
          "metadata": {},
          "execution_count": 26
        }
      ]
    },
    {
      "cell_type": "markdown",
      "metadata": {
        "id": "63lOPWYHQYYF"
      },
      "source": [
        "**모델 생성 및 학습 (K-NN 알고리즘 )**"
      ]
    },
    {
      "cell_type": "markdown",
      "metadata": {
        "id": "iKKZWY_shRue"
      },
      "source": [
        "Train, Validation Data 생성하기"
      ]
    },
    {
      "cell_type": "code",
      "metadata": {
        "id": "59yWPElChRYA"
      },
      "source": [
        "X = train_data.drop('value', axis=1)\n",
        "y = train_data.value\n",
        "x_train, x_valid, y_train, y_valid = train_test_split(X, y, test_size=0.2)"
      ],
      "execution_count": null,
      "outputs": []
    },
    {
      "cell_type": "markdown",
      "metadata": {
        "id": "ZHCjqgIng3gH"
      },
      "source": [
        "GridSearchCV를 이용하여 K-NN의 neighbor 값을 최적화함"
      ]
    },
    {
      "cell_type": "code",
      "metadata": {
        "colab": {
          "base_uri": "https://localhost:8080/"
        },
        "id": "E_2zZKVAg4YB",
        "outputId": "e953fec5-5510-4c0c-cc53-016092c66335"
      },
      "source": [
        "knr = KNeighborsRegressor()\n",
        "\n",
        "param_grid = {'n_neighbors':[3, 5, 7, 9, 11]}\n",
        "\n",
        "grid = GridSearchCV(knr, param_grid=param_grid) \n",
        "\n",
        "grid.fit(x_train, y_train)\n",
        "\n",
        "print(pd.DataFrame(grid.cv_results_).sort_values(by='param_n_neighbors'))\n",
        "print(grid.best_score_)\n",
        "print(grid.best_params_)"
      ],
      "execution_count": null,
      "outputs": [
        {
          "output_type": "stream",
          "name": "stdout",
          "text": [
            "   mean_fit_time  std_fit_time  ...  std_test_score  rank_test_score\n",
            "0       0.005167      0.001829  ...        0.001497                5\n",
            "1       0.004130      0.000148  ...        0.002000                2\n",
            "2       0.004130      0.000127  ...        0.001832                1\n",
            "3       0.004226      0.000101  ...        0.001773                3\n",
            "4       0.004230      0.000220  ...        0.001938                4\n",
            "\n",
            "[5 rows x 14 columns]\n",
            "0.9922942946278244\n",
            "{'n_neighbors': 7}\n"
          ]
        }
      ]
    },
    {
      "cell_type": "code",
      "metadata": {
        "id": "9QDNwMQJiMwI"
      },
      "source": [
        "knr = grid.best_estimator_"
      ],
      "execution_count": null,
      "outputs": []
    },
    {
      "cell_type": "markdown",
      "metadata": {
        "id": "_WkAR3xRic9H"
      },
      "source": [
        "검증하기\n",
        "\n",
        "Training Data와 Validation Data에 대해서\n",
        "RMSE(Root Mean Squared Error)와 R2 계수를 구해서 체크해 보기"
      ]
    },
    {
      "cell_type": "code",
      "metadata": {
        "id": "ft2KbjL6id2E"
      },
      "source": [
        "accuracy_check_knn = {}"
      ],
      "execution_count": null,
      "outputs": []
    },
    {
      "cell_type": "code",
      "metadata": {
        "colab": {
          "base_uri": "https://localhost:8080/"
        },
        "id": "dFCEGeB3in1F",
        "outputId": "819f31bc-236f-4bb1-878e-34e945127055"
      },
      "source": [
        "y_pred = knr.predict(x_train) \n",
        "train_r2_score = metrics.r2_score(y_train, y_pred)\n",
        "train_rmse_score = np.sqrt(metrics.mean_squared_error(y_train, y_pred))\n",
        "print(train_r2_score, train_rmse_score)\n",
        "accuracy_check_knn['train_r2_score'] = train_r2_score\n",
        "accuracy_check_knn['train_rmse_score'] = train_rmse_score"
      ],
      "execution_count": null,
      "outputs": [
        {
          "output_type": "stream",
          "name": "stdout",
          "text": [
            "0.9948538020627279 0.1001604802844804\n"
          ]
        }
      ]
    },
    {
      "cell_type": "code",
      "metadata": {
        "colab": {
          "base_uri": "https://localhost:8080/"
        },
        "id": "1i5HzgGui3QW",
        "outputId": "a657cf9c-69c3-433c-e3b2-60be2caf7c4c"
      },
      "source": [
        "y_pred = knr.predict(x_valid) \n",
        "valid_r2_score = metrics.r2_score(y_valid, y_pred)\n",
        "valid_rmse_score =  np.sqrt(metrics.mean_squared_error(y_valid, y_pred))\n",
        "print(valid_r2_score, valid_rmse_score)\n",
        "accuracy_check_knn['valid_r2_score'] = valid_r2_score\n",
        "accuracy_check_knn['valid_rmse_score'] = valid_rmse_score"
      ],
      "execution_count": null,
      "outputs": [
        {
          "output_type": "stream",
          "name": "stdout",
          "text": [
            "0.993510604791938 0.11463258169199281\n"
          ]
        }
      ]
    },
    {
      "cell_type": "code",
      "metadata": {
        "colab": {
          "base_uri": "https://localhost:8080/",
          "height": 81
        },
        "id": "cH0BzaMrjANl",
        "outputId": "aa56a8b2-b152-408c-9d8b-834a1cd1eb33"
      },
      "source": [
        "accuracy_knn = pd.DataFrame(accuracy_check_knn, index=['KNN'])\n",
        "accuracy_knn"
      ],
      "execution_count": null,
      "outputs": [
        {
          "output_type": "execute_result",
          "data": {
            "text/html": [
              "<div>\n",
              "<style scoped>\n",
              "    .dataframe tbody tr th:only-of-type {\n",
              "        vertical-align: middle;\n",
              "    }\n",
              "\n",
              "    .dataframe tbody tr th {\n",
              "        vertical-align: top;\n",
              "    }\n",
              "\n",
              "    .dataframe thead th {\n",
              "        text-align: right;\n",
              "    }\n",
              "</style>\n",
              "<table border=\"1\" class=\"dataframe\">\n",
              "  <thead>\n",
              "    <tr style=\"text-align: right;\">\n",
              "      <th></th>\n",
              "      <th>train_r2_score</th>\n",
              "      <th>train_rmse_score</th>\n",
              "      <th>valid_r2_score</th>\n",
              "      <th>valid_rmse_score</th>\n",
              "    </tr>\n",
              "  </thead>\n",
              "  <tbody>\n",
              "    <tr>\n",
              "      <th>KNN</th>\n",
              "      <td>0.994854</td>\n",
              "      <td>0.10016</td>\n",
              "      <td>0.993511</td>\n",
              "      <td>0.114633</td>\n",
              "    </tr>\n",
              "  </tbody>\n",
              "</table>\n",
              "</div>"
            ],
            "text/plain": [
              "     train_r2_score  train_rmse_score  valid_r2_score  valid_rmse_score\n",
              "KNN        0.994854           0.10016        0.993511          0.114633"
            ]
          },
          "metadata": {},
          "execution_count": 33
        }
      ]
    },
    {
      "cell_type": "markdown",
      "metadata": {
        "id": "7aDqfE893Sek"
      },
      "source": [
        "**앙상블 모델**"
      ]
    },
    {
      "cell_type": "markdown",
      "metadata": {
        "id": "pRZNMTwM3cGq"
      },
      "source": [
        "VotingRegressor 모델"
      ]
    },
    {
      "cell_type": "code",
      "metadata": {
        "colab": {
          "base_uri": "https://localhost:8080/"
        },
        "id": "VY0su9Ff5DQZ",
        "outputId": "3e5eac83-ad9a-4b4e-99d9-547637a45520"
      },
      "source": [
        "en_lr = LinearRegression()\n",
        "en_svr = SVR(kernel='rbf', C=10, gamma=0.01)     # 최적의 C, gamma 값의 model 생성\n",
        "en_knr = KNeighborsRegressor(n_neighbors=7)   # 최적의 neighbor 값의 model 생성\n",
        "\n",
        "voting_model = VotingRegressor(estimators=[\n",
        "                      ('LR', en_lr), ('SVM', en_svr), ('KNN', en_knr)],\n",
        "                      weights=[1, 1, 1])\n",
        "voting_model.fit(x_train, y_train)"
      ],
      "execution_count": null,
      "outputs": [
        {
          "output_type": "execute_result",
          "data": {
            "text/plain": [
              "VotingRegressor(estimators=[('LR', LinearRegression()),\n",
              "                            ('SVM', SVR(C=10, gamma=0.01)),\n",
              "                            ('KNN', KNeighborsRegressor(n_neighbors=7))],\n",
              "                weights=[1, 1, 1])"
            ]
          },
          "metadata": {},
          "execution_count": 34
        }
      ]
    },
    {
      "cell_type": "markdown",
      "metadata": {
        "id": "ao2Cwcwh_TTl"
      },
      "source": [
        "검증하기\n",
        "\n",
        "Training Data와 Validation Data에 대해서\n",
        "RMSE(Root Mean Squared Error)와 R2 계수를 구해서 체크해 보기"
      ]
    },
    {
      "cell_type": "code",
      "metadata": {
        "id": "jG5mfk1x_UZV"
      },
      "source": [
        "accuracy_check_ens = {}"
      ],
      "execution_count": null,
      "outputs": []
    },
    {
      "cell_type": "code",
      "metadata": {
        "colab": {
          "base_uri": "https://localhost:8080/"
        },
        "id": "g--e-ARO_ePO",
        "outputId": "3e77415c-c1f4-46e0-b2b7-20afa269e024"
      },
      "source": [
        "y_pred = voting_model.predict(x_train) \n",
        "train_r2_score = metrics.r2_score(y_train, y_pred)\n",
        "train_rmse_score = np.sqrt(metrics.mean_squared_error(y_train, y_pred))\n",
        "print(train_r2_score, train_rmse_score)\n",
        "accuracy_check_ens['train_r2_score'] = train_r2_score\n",
        "accuracy_check_ens['train_rmse_score'] = train_rmse_score"
      ],
      "execution_count": null,
      "outputs": [
        {
          "output_type": "stream",
          "name": "stdout",
          "text": [
            "0.9933575523555228 0.11379343967286465\n"
          ]
        }
      ]
    },
    {
      "cell_type": "code",
      "metadata": {
        "colab": {
          "base_uri": "https://localhost:8080/"
        },
        "id": "DDAz5Jes_t3s",
        "outputId": "bf305ac7-de2f-418a-ebac-82bc9fd69ca0"
      },
      "source": [
        "y_pred = voting_model.predict(x_valid) \n",
        "valid_r2_score = metrics.r2_score(y_valid, y_pred)\n",
        "valid_rmse_score =  np.sqrt(metrics.mean_squared_error(y_valid, y_pred))\n",
        "print(valid_r2_score, valid_rmse_score)\n",
        "accuracy_check_ens['valid_r2_score'] = valid_r2_score\n",
        "accuracy_check_ens['valid_rmse_score'] = valid_rmse_score"
      ],
      "execution_count": null,
      "outputs": [
        {
          "output_type": "stream",
          "name": "stdout",
          "text": [
            "0.993107870510388 0.11813611259006601\n"
          ]
        }
      ]
    },
    {
      "cell_type": "code",
      "metadata": {
        "colab": {
          "base_uri": "https://localhost:8080/",
          "height": 81
        },
        "id": "kp6f4XAc_3Nk",
        "outputId": "0cc7facb-c170-4386-badc-5191ec25a935"
      },
      "source": [
        "accuracy_ens = pd.DataFrame(accuracy_check_ens, index=['ENS'])\n",
        "accuracy_ens"
      ],
      "execution_count": null,
      "outputs": [
        {
          "output_type": "execute_result",
          "data": {
            "text/html": [
              "<div>\n",
              "<style scoped>\n",
              "    .dataframe tbody tr th:only-of-type {\n",
              "        vertical-align: middle;\n",
              "    }\n",
              "\n",
              "    .dataframe tbody tr th {\n",
              "        vertical-align: top;\n",
              "    }\n",
              "\n",
              "    .dataframe thead th {\n",
              "        text-align: right;\n",
              "    }\n",
              "</style>\n",
              "<table border=\"1\" class=\"dataframe\">\n",
              "  <thead>\n",
              "    <tr style=\"text-align: right;\">\n",
              "      <th></th>\n",
              "      <th>train_r2_score</th>\n",
              "      <th>train_rmse_score</th>\n",
              "      <th>valid_r2_score</th>\n",
              "      <th>valid_rmse_score</th>\n",
              "    </tr>\n",
              "  </thead>\n",
              "  <tbody>\n",
              "    <tr>\n",
              "      <th>ENS</th>\n",
              "      <td>0.993358</td>\n",
              "      <td>0.113793</td>\n",
              "      <td>0.993108</td>\n",
              "      <td>0.118136</td>\n",
              "    </tr>\n",
              "  </tbody>\n",
              "</table>\n",
              "</div>"
            ],
            "text/plain": [
              "     train_r2_score  train_rmse_score  valid_r2_score  valid_rmse_score\n",
              "ENS        0.993358          0.113793        0.993108          0.118136"
            ]
          },
          "metadata": {},
          "execution_count": 38
        }
      ]
    },
    {
      "cell_type": "markdown",
      "metadata": {
        "id": "QxFiqLTGl7cl"
      },
      "source": [
        "검증결과 시각화"
      ]
    },
    {
      "cell_type": "markdown",
      "metadata": {
        "id": "wEzV8Ibpl_8c"
      },
      "source": [
        "4개 알고리즘의 검증 결과 합치기"
      ]
    },
    {
      "cell_type": "code",
      "metadata": {
        "colab": {
          "base_uri": "https://localhost:8080/",
          "height": 174
        },
        "id": "bWsP3-5jmEL8",
        "outputId": "02021f6f-54b4-480b-f2ab-648dde104285"
      },
      "source": [
        "accuracy_result = pd.concat([accuracy_lr, accuracy_svm, accuracy_knn, accuracy_ens])\n",
        "accuracy_result"
      ],
      "execution_count": null,
      "outputs": [
        {
          "output_type": "execute_result",
          "data": {
            "text/html": [
              "<div>\n",
              "<style scoped>\n",
              "    .dataframe tbody tr th:only-of-type {\n",
              "        vertical-align: middle;\n",
              "    }\n",
              "\n",
              "    .dataframe tbody tr th {\n",
              "        vertical-align: top;\n",
              "    }\n",
              "\n",
              "    .dataframe thead th {\n",
              "        text-align: right;\n",
              "    }\n",
              "</style>\n",
              "<table border=\"1\" class=\"dataframe\">\n",
              "  <thead>\n",
              "    <tr style=\"text-align: right;\">\n",
              "      <th></th>\n",
              "      <th>train_r2_score</th>\n",
              "      <th>train_rmse_score</th>\n",
              "      <th>valid_r2_score</th>\n",
              "      <th>valid_rmse_score</th>\n",
              "    </tr>\n",
              "  </thead>\n",
              "  <tbody>\n",
              "    <tr>\n",
              "      <th>LR</th>\n",
              "      <td>0.969013</td>\n",
              "      <td>0.245550</td>\n",
              "      <td>0.970244</td>\n",
              "      <td>0.246306</td>\n",
              "    </tr>\n",
              "    <tr>\n",
              "      <th>SVM</th>\n",
              "      <td>0.996358</td>\n",
              "      <td>0.084010</td>\n",
              "      <td>0.995520</td>\n",
              "      <td>0.096312</td>\n",
              "    </tr>\n",
              "    <tr>\n",
              "      <th>KNN</th>\n",
              "      <td>0.994854</td>\n",
              "      <td>0.100160</td>\n",
              "      <td>0.993511</td>\n",
              "      <td>0.114633</td>\n",
              "    </tr>\n",
              "    <tr>\n",
              "      <th>ENS</th>\n",
              "      <td>0.993358</td>\n",
              "      <td>0.113793</td>\n",
              "      <td>0.993108</td>\n",
              "      <td>0.118136</td>\n",
              "    </tr>\n",
              "  </tbody>\n",
              "</table>\n",
              "</div>"
            ],
            "text/plain": [
              "     train_r2_score  train_rmse_score  valid_r2_score  valid_rmse_score\n",
              "LR         0.969013          0.245550        0.970244          0.246306\n",
              "SVM        0.996358          0.084010        0.995520          0.096312\n",
              "KNN        0.994854          0.100160        0.993511          0.114633\n",
              "ENS        0.993358          0.113793        0.993108          0.118136"
            ]
          },
          "metadata": {},
          "execution_count": 39
        }
      ]
    },
    {
      "cell_type": "code",
      "metadata": {
        "colab": {
          "base_uri": "https://localhost:8080/",
          "height": 284
        },
        "id": "951yX8LpuUYE",
        "outputId": "88f451b0-e9cc-44b3-f01b-e8a2775ee539"
      },
      "source": [
        "sns.barplot(data=accuracy_result, x=accuracy_result.index, y='valid_r2_score')"
      ],
      "execution_count": null,
      "outputs": [
        {
          "output_type": "execute_result",
          "data": {
            "text/plain": [
              "<matplotlib.axes._subplots.AxesSubplot at 0x7f3ae21ccd10>"
            ]
          },
          "metadata": {},
          "execution_count": 40
        },
        {
          "output_type": "display_data",
          "data": {
            "image/png": "[encoded data removed]",
            "text/plain": [
              "<Figure size 432x288 with 1 Axes>"
            ]
          },
          "metadata": {
            "needs_background": "light"
          }
        }
      ]
    },
    {
      "cell_type": "code",
      "metadata": {
        "colab": {
          "base_uri": "https://localhost:8080/",
          "height": 284
        },
        "id": "JV9RVgNXwCRa",
        "outputId": "52696d4d-3db1-4206-d057-db8c6a9349fb"
      },
      "source": [
        "sns.barplot(data=accuracy_result, x=accuracy_result.index, y='valid_rmse_score')"
      ],
      "execution_count": null,
      "outputs": [
        {
          "output_type": "execute_result",
          "data": {
            "text/plain": [
              "<matplotlib.axes._subplots.AxesSubplot at 0x7f3ae219ffd0>"
            ]
          },
          "metadata": {},
          "execution_count": 41
        },
        {
          "output_type": "display_data",
          "data": {
            "image/png": "[encoded data removed]",
            "text/plain": [
              "<Figure size 432x288 with 1 Axes>"
            ]
          },
          "metadata": {
            "needs_background": "light"
          }
        }
      ]
    },
    {
      "cell_type": "markdown",
      "metadata": {
        "id": "ZGWAW4ufwNON"
      },
      "source": [
        "테스트 데이터로 예측값 산출하기\n",
        "\n",
        "4개 알고리즘을 비교했을 때 SVM알고리즘이 정확도가 가장 뛰어난 것으로 확인됨\n",
        "따라서 SVM 알고리즘으로 테스트 데이터 값을 예측함."
      ]
    },
    {
      "cell_type": "code",
      "metadata": {
        "id": "NAIHyCdUwsoU"
      },
      "source": [
        "exp_value = np.expm1(clf.predict(test_data))"
      ],
      "execution_count": null,
      "outputs": []
    },
    {
      "cell_type": "code",
      "metadata": {
        "id": "8bBRHUstxfPZ"
      },
      "source": [
        "test['value'] = exp_value"
      ],
      "execution_count": null,
      "outputs": []
    },
    {
      "cell_type": "code",
      "metadata": {
        "colab": {
          "base_uri": "https://localhost:8080/",
          "height": 206
        },
        "id": "wbDowUU2yDjx",
        "outputId": "cd64625c-48ea-45d4-fafc-49f87bb72512"
      },
      "source": [
        "final = test[['id', 'name', 'value']]\n",
        "final.head()"
      ],
      "execution_count": null,
      "outputs": [
        {
          "output_type": "execute_result",
          "data": {
            "text/html": [
              "<div>\n",
              "<style scoped>\n",
              "    .dataframe tbody tr th:only-of-type {\n",
              "        vertical-align: middle;\n",
              "    }\n",
              "\n",
              "    .dataframe tbody tr th {\n",
              "        vertical-align: top;\n",
              "    }\n",
              "\n",
              "    .dataframe thead th {\n",
              "        text-align: right;\n",
              "    }\n",
              "</style>\n",
              "<table border=\"1\" class=\"dataframe\">\n",
              "  <thead>\n",
              "    <tr style=\"text-align: right;\">\n",
              "      <th></th>\n",
              "      <th>id</th>\n",
              "      <th>name</th>\n",
              "      <th>value</th>\n",
              "    </tr>\n",
              "  </thead>\n",
              "  <tbody>\n",
              "    <tr>\n",
              "      <th>0</th>\n",
              "      <td>1</td>\n",
              "      <td>Cristiano Ronaldo</td>\n",
              "      <td>6.005809e+07</td>\n",
              "    </tr>\n",
              "    <tr>\n",
              "      <th>1</th>\n",
              "      <td>2</td>\n",
              "      <td>Neymar Jr</td>\n",
              "      <td>7.709454e+07</td>\n",
              "    </tr>\n",
              "    <tr>\n",
              "      <th>2</th>\n",
              "      <td>4</td>\n",
              "      <td>K. De Bruyne</td>\n",
              "      <td>9.008098e+07</td>\n",
              "    </tr>\n",
              "    <tr>\n",
              "      <th>3</th>\n",
              "      <td>5</td>\n",
              "      <td>E. Hazard</td>\n",
              "      <td>8.873260e+07</td>\n",
              "    </tr>\n",
              "    <tr>\n",
              "      <th>4</th>\n",
              "      <td>6</td>\n",
              "      <td>L. Modrić</td>\n",
              "      <td>6.232264e+07</td>\n",
              "    </tr>\n",
              "  </tbody>\n",
              "</table>\n",
              "</div>"
            ],
            "text/plain": [
              "   id               name         value\n",
              "0   1  Cristiano Ronaldo  6.005809e+07\n",
              "1   2          Neymar Jr  7.709454e+07\n",
              "2   4       K. De Bruyne  9.008098e+07\n",
              "3   5          E. Hazard  8.873260e+07\n",
              "4   6          L. Modrić  6.232264e+07"
            ]
          },
          "metadata": {},
          "execution_count": 51
        }
      ]
    }
  ]
}